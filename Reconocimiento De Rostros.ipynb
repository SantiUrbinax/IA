{
 "cells": [
  {
   "cell_type": "code",
   "execution_count": null,
   "id": "44c75621-4ef9-4f33-a361-99ed111df293",
   "metadata": {},
   "outputs": [],
   "source": [
    "# Módulos necesarios \n",
    "import cv2\n",
    "import numpy as np \n",
    "# Desde la web \n",
    "import requests\n",
    "import mediapipe as mp"
   ]
  },
  {
   "cell_type": "code",
   "execution_count": 2,
   "id": "6e75d508-5d7c-4c80-8aa7-40646d038249",
   "metadata": {},
   "outputs": [],
   "source": [
    "# Paso 1: Cargar imagen \n",
    "url = \"hhttps://moodle2025.url.edu.gt/pluginfile.php/603385/mod_resource/content/0/rostro-mujer.jpg\"\n",
    "response = requests.get(url)\n",
    "image_array = np.asarray(bytearray(response.content), dtype=np.uint8)\n",
    "image = cv2.imdecode(image_array, cv2.IMREAD_COLOR)"
   ]
  },
  {
   "cell_type": "code",
   "execution_count": 3,
   "id": "ff237e61-2fb9-4b83-bcc5-1087875f57e7",
   "metadata": {},
   "outputs": [],
   "source": [
    "# Paso 2: Inicializar la detección de rostros de MediaPipe\n",
    "mp_face_detection = mp.solutions.face_detection\n",
    "mp_drawing = mp.solutions.drawing_utils"
   ]
  },
  {
   "cell_type": "code",
   "execution_count": 4,
   "id": "55f18e00-bd36-4027-b322-201b78f44392",
   "metadata": {},
   "outputs": [
    {
     "name": "stderr",
     "output_type": "stream",
     "text": [
      "WARNING: All log messages before absl::InitializeLog() is called are written to STDERR\n",
      "I0000 00:00:1747838754.662758    8767 gl_context_egl.cc:85] Successfully initialized EGL. Major : 1 Minor: 5\n",
      "I0000 00:00:1747838754.666111    9341 gl_context.cc:369] GL version: 3.2 (OpenGL ES 3.2 Mesa 25.0.5-arch1.1), renderer: AMD Radeon 610M (radeonsi, raphael_mendocino, LLVM 19.1.7, DRM 3.61, 6.12.29-1-lts)\n",
      "INFO: Created TensorFlow Lite XNNPACK delegate for CPU.\n",
      "W0000 00:00:1747838754.677378    9326 inference_feedback_manager.cc:114] Feedback manager requires a model with a single signature inference. Disabling support for feedback tensors.\n"
     ]
    }
   ],
   "source": [
    "# Paso 3: Usar el modelo con la imagen \n",
    "with mp_face_detection.FaceDetection(model_selection=1, min_detection_confidence=0.5) as face_detection:\n",
    "    # Convertir la imagen a RGB (mediapipe trabaja con RGB)\n",
    "    image_rgb = cv2.cvtColor(image, cv2.COLOR_BGR2RGB)\n",
    "    # Procesar la imagen \n",
    "    results = face_detection.process(image_rgb)\n",
    "    # Dibujar los resultados \n",
    "    if results.detections:\n",
    "        for detection in results.detections:\n",
    "            mp_drawing.draw_detection(image, detection)"
   ]
  },
  {
   "cell_type": "code",
   "execution_count": 5,
   "id": "eeacf74f-778e-4356-b22a-a674404e4db2",
   "metadata": {},
   "outputs": [
    {
     "name": "stderr",
     "output_type": "stream",
     "text": [
      "qt.qpa.plugin: Could not find the Qt platform plugin \"wayland\" in \"/mnt/data/files/url/url-notas/docs/0-RES/IA/jupyter/.venv/lib/python3.12/site-packages/cv2/qt/plugins\"\n"
     ]
    }
   ],
   "source": [
    "# Paso 4: Mostrar la imagen con detecciones\n",
    "cv2.imshow(\"Detección de rostros\", image)\n",
    "cv2.waitKey(0)\n",
    "cv2.destroyAllWindows()"
   ]
  },
  {
   "cell_type": "code",
   "execution_count": null,
   "id": "8e41d091-e439-49a2-bcd0-75cfc20a5c25",
   "metadata": {},
   "outputs": [],
   "source": []
  }
 ],
 "metadata": {
  "kernelspec": {
   "display_name": "Python 3 (ipykernel)",
   "language": "python",
   "name": "python3"
  },
  "language_info": {
   "codemirror_mode": {
    "name": "ipython",
    "version": 3
   },
   "file_extension": ".py",
   "mimetype": "text/x-python",
   "name": "python",
   "nbconvert_exporter": "python",
   "pygments_lexer": "ipython3",
   "version": "3.12.8"
  }
 },
 "nbformat": 4,
 "nbformat_minor": 5
}
